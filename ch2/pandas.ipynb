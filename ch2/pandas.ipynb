{
  "cells": [
    {
      "cell_type": "markdown",
      "metadata": {
        "id": "view-in-github",
        "colab_type": "text"
      },
      "source": [
        "<a href=\"https://colab.research.google.com/github/k5sko/ARENA_Tutorials/blob/main/ch2/pandas.ipynb\" target=\"_parent\"><img src=\"https://colab.research.google.com/assets/colab-badge.svg\" alt=\"Open In Colab\"/></a>"
      ]
    },
    {
      "cell_type": "markdown",
      "id": "3766a2be",
      "metadata": {
        "origin_pos": 1,
        "id": "3766a2be"
      },
      "source": [
        "# Data Preprocessing\n",
        ":label:`sec_pandas`\n",
        "\n",
        "So far, we have been working with synthetic data\n",
        "that arrived in ready-made tensors.\n",
        "However, to apply deep learning in the wild\n",
        "we must extract messy data\n",
        "stored in arbitrary formats,\n",
        "and preprocess it to suit our needs.\n",
        "Fortunately, the *pandas* [library](https://pandas.pydata.org/)\n",
        "can do much of the heavy lifting.\n",
        "This section, while no substitute\n",
        "for a proper *pandas* [tutorial](https://pandas.pydata.org/pandas-docs/stable/user_guide/10min.html),\n",
        "will give you a crash course\n",
        "on some of the most common routines.\n",
        "\n",
        "## Reading the Dataset\n",
        "\n",
        "Comma-separated values (CSV) files are ubiquitous\n",
        "for the storing of tabular (spreadsheet-like) data.\n",
        "In them, each line corresponds to one record\n",
        "and consists of several (comma-separated) fields, e.g.,\n",
        "\"Albert Einstein,March 14 1879,Ulm,Federal polytechnic school,field of gravitational physics\".\n",
        "To demonstrate how to load CSV files with `pandas`,\n",
        "we (**create a CSV file below**) `../data/house_tiny.csv`.\n",
        "This file represents a dataset of homes,\n",
        "where each row corresponds to a distinct home\n",
        "and the columns correspond to the number of rooms (`NumRooms`),\n",
        "the roof type (`RoofType`), and the price (`Price`).\n"
      ]
    },
    {
      "cell_type": "code",
      "execution_count": null,
      "id": "2bea3f1b",
      "metadata": {
        "execution": {
          "iopub.execute_input": "2023-08-18T19:31:20.494944Z",
          "iopub.status.busy": "2023-08-18T19:31:20.494290Z",
          "iopub.status.idle": "2023-08-18T19:31:20.505610Z",
          "shell.execute_reply": "2023-08-18T19:31:20.504677Z"
        },
        "origin_pos": 2,
        "tab": [
          "pytorch"
        ],
        "id": "2bea3f1b"
      },
      "outputs": [],
      "source": [
        "import os\n",
        "\n",
        "os.makedirs(os.path.join('..', 'data'), exist_ok=True)\n",
        "data_file = os.path.join('..', 'data', 'house_tiny.csv')\n",
        "with open(data_file, 'w') as f:\n",
        "    f.write('''NumRooms,RoofType,Price\n",
        "NA,NA,127500\n",
        "2,NA,106000\n",
        "4,Slate,178100\n",
        "NA,NA,140000''')"
      ]
    },
    {
      "cell_type": "markdown",
      "id": "a73772a6",
      "metadata": {
        "origin_pos": 3,
        "id": "a73772a6"
      },
      "source": [
        "Now let's import `pandas` and load the dataset with `read_csv`.\n"
      ]
    },
    {
      "cell_type": "code",
      "execution_count": null,
      "id": "9ae201e1",
      "metadata": {
        "execution": {
          "iopub.execute_input": "2023-08-18T19:31:20.510380Z",
          "iopub.status.busy": "2023-08-18T19:31:20.509849Z",
          "iopub.status.idle": "2023-08-18T19:31:21.105668Z",
          "shell.execute_reply": "2023-08-18T19:31:21.104596Z"
        },
        "origin_pos": 4,
        "tab": [
          "pytorch"
        ],
        "id": "9ae201e1",
        "outputId": "f9039f55-f62e-4b52-d01f-b6990da14369",
        "colab": {
          "base_uri": "https://localhost:8080/"
        }
      },
      "outputs": [
        {
          "output_type": "stream",
          "name": "stdout",
          "text": [
            "   NumRooms RoofType   Price\n",
            "0       NaN      NaN  127500\n",
            "1       2.0      NaN  106000\n",
            "2       4.0    Slate  178100\n",
            "3       NaN      NaN  140000\n"
          ]
        }
      ],
      "source": [
        "import pandas as pd\n",
        "\n",
        "data = pd.read_csv(data_file)\n",
        "print(data)"
      ]
    },
    {
      "cell_type": "markdown",
      "id": "2bcb4eec",
      "metadata": {
        "origin_pos": 5,
        "id": "2bcb4eec"
      },
      "source": [
        "## Data Preparation\n",
        "\n",
        "In supervised learning, we train models\n",
        "to predict a designated *target* value,\n",
        "given some set of *input* values.\n",
        "Our first step in processing the dataset\n",
        "is to separate out columns corresponding\n",
        "to input versus target values.\n",
        "We can select columns either by name or\n",
        "via integer-location based indexing (`iloc`).\n",
        "\n",
        "You might have noticed that `pandas` replaced\n",
        "all CSV entries with value `NA`\n",
        "with a special `NaN` (*not a number*) value.\n",
        "This can also happen whenever an entry is empty,\n",
        "e.g., \"3,,,270000\".\n",
        "These are called *missing values*\n",
        "and they are the \"bed bugs\" of data science,\n",
        "a persistent menace that you will confront\n",
        "throughout your career.\n",
        "Depending upon the context,\n",
        "missing values might be handled\n",
        "either via *imputation* or *deletion*.\n",
        "Imputation replaces missing values\n",
        "with estimates of their values\n",
        "while deletion simply discards\n",
        "either those rows or those columns\n",
        "that contain missing values.\n",
        "\n",
        "Here are some common imputation heuristics.\n",
        "[**For categorical input fields,\n",
        "we can treat `NaN` as a category.**]\n",
        "Since the `RoofType` column takes values `Slate` and `NaN`,\n",
        "`pandas` can convert this column\n",
        "into two columns `RoofType_Slate` and `RoofType_nan`.\n",
        "A row whose roof type is `Slate` will set values\n",
        "of `RoofType_Slate` and `RoofType_nan` to 1 and 0, respectively.\n",
        "The converse holds for a row with a missing `RoofType` value.\n"
      ]
    },
    {
      "cell_type": "code",
      "execution_count": null,
      "id": "f92e80b6",
      "metadata": {
        "execution": {
          "iopub.execute_input": "2023-08-18T19:31:21.109879Z",
          "iopub.status.busy": "2023-08-18T19:31:21.109243Z",
          "iopub.status.idle": "2023-08-18T19:31:21.120081Z",
          "shell.execute_reply": "2023-08-18T19:31:21.119081Z"
        },
        "origin_pos": 6,
        "tab": [
          "pytorch"
        ],
        "id": "f92e80b6",
        "outputId": "2ae07e31-5835-416b-87b3-77b0a2f56438",
        "colab": {
          "base_uri": "https://localhost:8080/"
        }
      },
      "outputs": [
        {
          "output_type": "stream",
          "name": "stdout",
          "text": [
            "   NumRooms  RoofType_Slate  RoofType_nan\n",
            "0       NaN           False          True\n",
            "1       2.0           False          True\n",
            "2       4.0            True         False\n",
            "3       NaN           False          True\n"
          ]
        }
      ],
      "source": [
        "inputs, targets = data.iloc[:, 0:2], data.iloc[:, 2]\n",
        "inputs = pd.get_dummies(inputs, dummy_na=True)\n",
        "print(inputs)"
      ]
    },
    {
      "cell_type": "markdown",
      "id": "fea48715",
      "metadata": {
        "origin_pos": 7,
        "id": "fea48715"
      },
      "source": [
        "For missing numerical values,\n",
        "one common heuristic is to\n",
        "[**replace the `NaN` entries with\n",
        "the mean value of the corresponding column**].\n"
      ]
    },
    {
      "cell_type": "code",
      "execution_count": null,
      "id": "37e8e900",
      "metadata": {
        "execution": {
          "iopub.execute_input": "2023-08-18T19:31:21.123941Z",
          "iopub.status.busy": "2023-08-18T19:31:21.123273Z",
          "iopub.status.idle": "2023-08-18T19:31:21.132513Z",
          "shell.execute_reply": "2023-08-18T19:31:21.131522Z"
        },
        "origin_pos": 8,
        "tab": [
          "pytorch"
        ],
        "id": "37e8e900",
        "outputId": "9c5c3936-e236-4304-ec77-553bbbc168d1",
        "colab": {
          "base_uri": "https://localhost:8080/"
        }
      },
      "outputs": [
        {
          "output_type": "stream",
          "name": "stdout",
          "text": [
            "   NumRooms  RoofType_Slate  RoofType_nan\n",
            "0       3.0           False          True\n",
            "1       2.0           False          True\n",
            "2       4.0            True         False\n",
            "3       3.0           False          True\n"
          ]
        }
      ],
      "source": [
        "inputs = inputs.fillna(inputs.mean())\n",
        "print(inputs)"
      ]
    },
    {
      "cell_type": "markdown",
      "id": "a6d535cf",
      "metadata": {
        "origin_pos": 9,
        "id": "a6d535cf"
      },
      "source": [
        "## Conversion to the Tensor Format\n",
        "\n",
        "Now that [**all the entries in `inputs` and `targets` are numerical,\n",
        "we can load them into a tensor**] (recall :numref:`sec_ndarray`).\n"
      ]
    },
    {
      "cell_type": "code",
      "execution_count": null,
      "id": "d211233b",
      "metadata": {
        "execution": {
          "iopub.execute_input": "2023-08-18T19:31:21.137043Z",
          "iopub.status.busy": "2023-08-18T19:31:21.136126Z",
          "iopub.status.idle": "2023-08-18T19:31:23.159251Z",
          "shell.execute_reply": "2023-08-18T19:31:23.158224Z"
        },
        "origin_pos": 11,
        "tab": [
          "pytorch"
        ],
        "id": "d211233b",
        "outputId": "7befbd9c-e770-4b7e-be70-db24aca90cc3",
        "colab": {
          "base_uri": "https://localhost:8080/"
        }
      },
      "outputs": [
        {
          "output_type": "execute_result",
          "data": {
            "text/plain": [
              "(tensor([[3., 0., 1.],\n",
              "         [2., 0., 1.],\n",
              "         [4., 1., 0.],\n",
              "         [3., 0., 1.]], dtype=torch.float64),\n",
              " tensor([127500., 106000., 178100., 140000.], dtype=torch.float64))"
            ]
          },
          "metadata": {},
          "execution_count": 8
        }
      ],
      "source": [
        "import torch\n",
        "\n",
        "X = torch.tensor(inputs.to_numpy(dtype=float))\n",
        "y = torch.tensor(targets.to_numpy(dtype=float))\n",
        "X, y"
      ]
    },
    {
      "cell_type": "markdown",
      "id": "2a3027b6",
      "metadata": {
        "origin_pos": 14,
        "id": "2a3027b6"
      },
      "source": [
        "## Discussion\n",
        "\n",
        "You now know how to partition data columns,\n",
        "impute missing variables,\n",
        "and load `pandas` data into tensors.\n",
        "In :numref:`sec_kaggle_house`, you will\n",
        "pick up some more data processing skills.\n",
        "While this crash course kept things simple,\n",
        "data processing can get hairy.\n",
        "For example, rather than arriving in a single CSV file,\n",
        "our dataset might be spread across multiple files\n",
        "extracted from a relational database.\n",
        "For instance, in an e-commerce application,\n",
        "customer addresses might live in one table\n",
        "and purchase data in another.\n",
        "Moreover, practitioners face myriad data types\n",
        "beyond categorical and numeric, for example,\n",
        "text strings, images,\n",
        "audio data, and point clouds.\n",
        "Oftentimes, advanced tools and efficient algorithms\n",
        "are required in order to prevent data processing from becoming\n",
        "the biggest bottleneck in the machine learning pipeline.\n",
        "These problems will arise when we get to\n",
        "computer vision and natural language processing.\n",
        "Finally, we must pay attention to data quality.\n",
        "Real-world datasets are often plagued\n",
        "by outliers, faulty measurements from sensors, and recording errors,\n",
        "which must be addressed before\n",
        "feeding the data into any model.\n",
        "Data visualization tools such as [seaborn](https://seaborn.pydata.org/),\n",
        "[Bokeh](https://docs.bokeh.org/), or [matplotlib](https://matplotlib.org/)\n",
        "can help you to manually inspect the data\n",
        "and develop intuitions about\n",
        "the type of problems you may need to address.\n",
        "\n",
        "\n",
        "## Exercises\n",
        "\n",
        "1. Try loading datasets, e.g., Abalone from the [UCI Machine Learning Repository](https://archive.ics.uci.edu/ml/datasets.php) and inspect their properties. What fraction of them has missing values? What fraction of the variables is numerical, categorical, or text?\n",
        "1. Try indexing and selecting data columns by name rather than by column number. The pandas documentation on [indexing](https://pandas.pydata.org/pandas-docs/stable/user_guide/indexing.html) has further details on how to do this.\n",
        "1. How large a dataset do you think you could load this way? What might be the limitations? Hint: consider the time to read the data, representation, processing, and memory footprint. Try this out on your laptop. What happens if you try it out on a server?\n",
        "1. How would you deal with data that has a very large number of categories? What if the category labels are all unique? Should you include the latter?\n",
        "1. What alternatives to pandas can you think of? How about [loading NumPy tensors from a file](https://numpy.org/doc/stable/reference/generated/numpy.load.html)? Check out [Pillow](https://python-pillow.org/), the Python Imaging Library.\n"
      ]
    },
    {
      "cell_type": "markdown",
      "source": [
        "Q1"
      ],
      "metadata": {
        "id": "Q3YhjhN6Jofn"
      },
      "id": "Q3YhjhN6Jofn"
    },
    {
      "cell_type": "code",
      "source": [
        "!pip install ucimlrepo"
      ],
      "metadata": {
        "colab": {
          "base_uri": "https://localhost:8080/"
        },
        "id": "iRg6AhCPJa41",
        "outputId": "a0976882-f815-40aa-a7a6-b448c3ce0cf6"
      },
      "id": "iRg6AhCPJa41",
      "execution_count": null,
      "outputs": [
        {
          "output_type": "stream",
          "name": "stdout",
          "text": [
            "Collecting ucimlrepo\n",
            "  Downloading ucimlrepo-0.0.7-py3-none-any.whl.metadata (5.5 kB)\n",
            "Requirement already satisfied: pandas>=1.0.0 in /usr/local/lib/python3.12/dist-packages (from ucimlrepo) (2.2.2)\n",
            "Requirement already satisfied: certifi>=2020.12.5 in /usr/local/lib/python3.12/dist-packages (from ucimlrepo) (2025.10.5)\n",
            "Requirement already satisfied: numpy>=1.26.0 in /usr/local/lib/python3.12/dist-packages (from pandas>=1.0.0->ucimlrepo) (2.0.2)\n",
            "Requirement already satisfied: python-dateutil>=2.8.2 in /usr/local/lib/python3.12/dist-packages (from pandas>=1.0.0->ucimlrepo) (2.9.0.post0)\n",
            "Requirement already satisfied: pytz>=2020.1 in /usr/local/lib/python3.12/dist-packages (from pandas>=1.0.0->ucimlrepo) (2025.2)\n",
            "Requirement already satisfied: tzdata>=2022.7 in /usr/local/lib/python3.12/dist-packages (from pandas>=1.0.0->ucimlrepo) (2025.2)\n",
            "Requirement already satisfied: six>=1.5 in /usr/local/lib/python3.12/dist-packages (from python-dateutil>=2.8.2->pandas>=1.0.0->ucimlrepo) (1.17.0)\n",
            "Downloading ucimlrepo-0.0.7-py3-none-any.whl (8.0 kB)\n",
            "Installing collected packages: ucimlrepo\n",
            "Successfully installed ucimlrepo-0.0.7\n"
          ]
        }
      ]
    },
    {
      "cell_type": "code",
      "source": [
        "from ucimlrepo import fetch_ucirepo\n",
        "abalone = fetch_ucirepo(id=1)\n",
        "X = abalone.data.features\n",
        "y = abalone.data.targets\n",
        "\n",
        "# metadata\n",
        "print(abalone.metadata)\n",
        "\n",
        "# variable information\n",
        "print(abalone.variables)"
      ],
      "metadata": {
        "colab": {
          "base_uri": "https://localhost:8080/"
        },
        "id": "fBFA63DaJp2h",
        "outputId": "0ccc803f-8a20-4f5f-c5f6-76817f29ce00"
      },
      "id": "fBFA63DaJp2h",
      "execution_count": null,
      "outputs": [
        {
          "output_type": "stream",
          "name": "stdout",
          "text": [
            "{'uci_id': 1, 'name': 'Abalone', 'repository_url': 'https://archive.ics.uci.edu/dataset/1/abalone', 'data_url': 'https://archive.ics.uci.edu/static/public/1/data.csv', 'abstract': 'Predict the age of abalone from physical measurements', 'area': 'Biology', 'tasks': ['Classification', 'Regression'], 'characteristics': ['Tabular'], 'num_instances': 4177, 'num_features': 8, 'feature_types': ['Categorical', 'Integer', 'Real'], 'demographics': [], 'target_col': ['Rings'], 'index_col': None, 'has_missing_values': 'no', 'missing_values_symbol': None, 'year_of_dataset_creation': 1994, 'last_updated': 'Mon Aug 28 2023', 'dataset_doi': '10.24432/C55C7W', 'creators': ['Warwick Nash', 'Tracy Sellers', 'Simon Talbot', 'Andrew Cawthorn', 'Wes Ford'], 'intro_paper': None, 'additional_info': {'summary': 'Predicting the age of abalone from physical measurements.  The age of abalone is determined by cutting the shell through the cone, staining it, and counting the number of rings through a microscope -- a boring and time-consuming task.  Other measurements, which are easier to obtain, are used to predict the age.  Further information, such as weather patterns and location (hence food availability) may be required to solve the problem.\\r\\n\\r\\nFrom the original data examples with missing values were removed (the majority having the predicted value missing), and the ranges of the continuous values have been scaled for use with an ANN (by dividing by 200).', 'purpose': None, 'funded_by': None, 'instances_represent': None, 'recommended_data_splits': None, 'sensitive_data': None, 'preprocessing_description': None, 'variable_info': 'Given is the attribute name, attribute type, the measurement unit and a brief description.  The number of rings is the value to predict: either as a continuous value or as a classification problem.\\r\\n\\r\\nName / Data Type / Measurement Unit / Description\\r\\n-----------------------------\\r\\nSex / nominal / -- / M, F, and I (infant)\\r\\nLength / continuous / mm / Longest shell measurement\\r\\nDiameter\\t/ continuous / mm / perpendicular to length\\r\\nHeight / continuous / mm / with meat in shell\\r\\nWhole weight / continuous / grams / whole abalone\\r\\nShucked weight / continuous\\t / grams / weight of meat\\r\\nViscera weight / continuous / grams / gut weight (after bleeding)\\r\\nShell weight / continuous / grams / after being dried\\r\\nRings / integer / -- / +1.5 gives the age in years\\r\\n\\r\\nThe readme file contains attribute statistics.', 'citation': None}}\n",
            "             name     role         type demographic  \\\n",
            "0             Sex  Feature  Categorical        None   \n",
            "1          Length  Feature   Continuous        None   \n",
            "2        Diameter  Feature   Continuous        None   \n",
            "3          Height  Feature   Continuous        None   \n",
            "4    Whole_weight  Feature   Continuous        None   \n",
            "5  Shucked_weight  Feature   Continuous        None   \n",
            "6  Viscera_weight  Feature   Continuous        None   \n",
            "7    Shell_weight  Feature   Continuous        None   \n",
            "8           Rings   Target      Integer        None   \n",
            "\n",
            "                   description  units missing_values  \n",
            "0         M, F, and I (infant)   None             no  \n",
            "1    Longest shell measurement     mm             no  \n",
            "2      perpendicular to length     mm             no  \n",
            "3           with meat in shell     mm             no  \n",
            "4                whole abalone  grams             no  \n",
            "5               weight of meat  grams             no  \n",
            "6  gut weight (after bleeding)  grams             no  \n",
            "7            after being dried  grams             no  \n",
            "8  +1.5 gives the age in years   None             no  \n"
          ]
        }
      ]
    },
    {
      "cell_type": "code",
      "source": [
        "print(X.shape)\n",
        "print(X.iloc[0:5])"
      ],
      "metadata": {
        "colab": {
          "base_uri": "https://localhost:8080/"
        },
        "id": "GgXbO1gcNttp",
        "outputId": "0f95dabe-7546-4853-8e40-bb22429065cb"
      },
      "id": "GgXbO1gcNttp",
      "execution_count": null,
      "outputs": [
        {
          "output_type": "stream",
          "name": "stdout",
          "text": [
            "(4177, 8)\n",
            "  Sex  Length  Diameter  Height  Whole_weight  Shucked_weight  Viscera_weight  \\\n",
            "0   M   0.455     0.365   0.095        0.5140          0.2245          0.1010   \n",
            "1   M   0.350     0.265   0.090        0.2255          0.0995          0.0485   \n",
            "2   F   0.530     0.420   0.135        0.6770          0.2565          0.1415   \n",
            "3   M   0.440     0.365   0.125        0.5160          0.2155          0.1140   \n",
            "4   I   0.330     0.255   0.080        0.2050          0.0895          0.0395   \n",
            "\n",
            "   Shell_weight  \n",
            "0         0.150  \n",
            "1         0.070  \n",
            "2         0.210  \n",
            "3         0.155  \n",
            "4         0.055  \n"
          ]
        }
      ]
    },
    {
      "cell_type": "code",
      "source": [
        "import numpy as np\n",
        "missing_patched = X.isna()\n",
        "missing_patched_unified = missing_patched.apply(np.sum, axis=1).apply(lambda x: x > 0)\n",
        "print(np.sum(missing_patched_unified)/len(missing_patched_unified))"
      ],
      "metadata": {
        "colab": {
          "base_uri": "https://localhost:8080/"
        },
        "id": "zjn6XYVaMNVi",
        "outputId": "177472c5-9ebc-4677-ef61-b4ae7db8a193"
      },
      "id": "zjn6XYVaMNVi",
      "execution_count": null,
      "outputs": [
        {
          "output_type": "stream",
          "name": "stdout",
          "text": [
            "0.0\n"
          ]
        }
      ]
    },
    {
      "cell_type": "markdown",
      "source": [],
      "metadata": {
        "id": "k2pcV3D6nCjG"
      },
      "id": "k2pcV3D6nCjG"
    },
    {
      "cell_type": "code",
      "source": [],
      "metadata": {
        "id": "ZU5Aj-ebWyuA"
      },
      "id": "ZU5Aj-ebWyuA",
      "execution_count": null,
      "outputs": []
    },
    {
      "cell_type": "markdown",
      "id": "634223ee",
      "metadata": {
        "origin_pos": 16,
        "tab": [
          "pytorch"
        ],
        "id": "634223ee"
      },
      "source": [
        "[Discussions](https://discuss.d2l.ai/t/29)\n"
      ]
    }
  ],
  "metadata": {
    "kernelspec": {
      "display_name": "Python 3",
      "name": "python3"
    },
    "language_info": {
      "name": "python"
    },
    "required_libs": [],
    "colab": {
      "provenance": [],
      "include_colab_link": true
    }
  },
  "nbformat": 4,
  "nbformat_minor": 5
}